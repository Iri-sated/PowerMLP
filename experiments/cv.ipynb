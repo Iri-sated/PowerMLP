{
 "cells": [
  {
   "cell_type": "code",
   "execution_count": null,
   "metadata": {},
   "outputs": [],
   "source": [
    "import torch\n",
    "import torch.nn as nn\n",
    "\n",
    "from utils import set_seed\n",
    "import os\n",
    "from data_input import get_dataset"
   ]
  },
  {
   "cell_type": "code",
   "execution_count": null,
   "metadata": {},
   "outputs": [],
   "source": [
    "seed = 4242\n",
    "set_seed(seed)\n",
    "\n",
    "os.environ['CUBLAS_WORKSPACE_CONFIG'] = ':4096:8'\n",
    "\n",
    "train_dataset, validation_dataset, test_dataset = get_dataset('svhn','data/')\n",
    "\n",
    "train_loader = torch.utils.data.DataLoader(dataset=train_dataset, batch_size=512, shuffle=True)\n",
    "val_loader = torch.utils.data.DataLoader(dataset=validation_dataset, batch_size=1000, shuffle=True)\n",
    "test_loader = torch.utils.data.DataLoader(dataset=test_dataset, batch_size=1000, shuffle=False)\n",
    "\n",
    "device = torch.device('cuda:5')"
   ]
  },
  {
   "cell_type": "code",
   "execution_count": null,
   "metadata": {},
   "outputs": [],
   "source": [
    "size_list = [\n",
    "    [1024,64,4,10],[1024,64,8,10],[1024,64,16,10],[1024,64,32,10],\n",
    "    [1024,4,64,10],[1024,8,64,10],[1024,16,64,10],[1024,32,64,10],\n",
    "]\n",
    "lr_list = [0.002,0.001,0.0008,0.0005,0.0003,0.0001]"
   ]
  },
  {
   "cell_type": "code",
   "execution_count": null,
   "metadata": {},
   "outputs": [],
   "source": [
    "from grid_search import BaseSearcher\n",
    "gs = BaseSearcher(device=device,save_dir='save/cv/svhn/powermlp/',task='clf')\n",
    "gs.init_logs()\n",
    "gs.grid_search(size_list,lr_list,train_loader,val_loader,test_loader,repu_order=3,optim='adam',max_iter=500,epoch_list=[50,50,500],scheduler='lam')\n",
    "#gs.grid_search(size_list,lr_list,train_loader,val_loader,test_loader,repu_order=1,res=False,optim='adam',max_iter=500,epoch_list=[50,50,500],scheduler='lam')"
   ]
  }
 ],
 "metadata": {
  "language_info": {
   "name": "python"
  }
 },
 "nbformat": 4,
 "nbformat_minor": 2
}
