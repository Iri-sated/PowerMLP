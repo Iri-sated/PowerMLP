{
 "cells": [
  {
   "cell_type": "code",
   "execution_count": null,
   "metadata": {},
   "outputs": [],
   "source": [
    "import torch\n",
    "import os\n",
    "import scipy.special as sp\n",
    "from torch.utils.data import DataLoader\n",
    "from sklearn.model_selection import train_test_split\n",
    "\n",
    "from utils import set_seed\n",
    "from data_input import get_dataset\n",
    "from grid_search import BaseSearcher"
   ]
  },
  {
   "cell_type": "code",
   "execution_count": null,
   "metadata": {},
   "outputs": [],
   "source": [
    "seed = 42\n",
    "set_seed(seed)\n",
    "\n",
    "os.environ['CUBLAS_WORKSPACE_CONFIG'] = ':4096:8'\n",
    "device = torch.device('cuda:2')\n",
    "\n",
    "f0 = lambda x: sp.ellipj(x[:,[0]], x[:,[1]])[0]\n",
    "f1 = lambda x: sp.ellipkinc(x[:,[0]], x[:,[1]])\n",
    "f2 = lambda x: sp.ellipeinc(x[:,[0]], x[:,[1]])\n",
    "f3 = lambda x: sp.jv(x[:,[0]], x[:,[1]])\n",
    "f4 = lambda x: sp.yv(x[:,[0]], x[:,[1]])\n",
    "f5 = lambda x: sp.kv(x[:,[0]], x[:,[1]])\n",
    "f6 = lambda x: sp.iv(x[:,[0]], x[:,[1]])\n",
    "f7 = lambda x: sp.lpmv(0, x[:,[0]], x[:,[1]])\n",
    "f8 = lambda x: sp.lpmv(1, x[:,[0]], x[:,[1]])\n",
    "f9 = lambda x: sp.lpmv(2, x[:,[0]], x[:,[1]])\n",
    "f10 = lambda x: sp.sph_harm(0, 1, x[:,[0]], x[:,[1]])\n",
    "f11 = lambda x: sp.sph_harm(1, 1, x[:,[0]], x[:,[1]])\n",
    "f12 = lambda x: sp.sph_harm(0, 2, x[:,[0]], x[:,[1]])\n",
    "f13 = lambda x: sp.sph_harm(1, 2, x[:,[0]], x[:,[1]])\n",
    "f14 = lambda x: sp.sph_harm(2, 2, x[:,[0]], x[:,[1]])\n",
    "\n",
    "func_set = [globals()[f'f{i}'] for i in range(15)]"
   ]
  },
  {
   "cell_type": "code",
   "execution_count": null,
   "metadata": {},
   "outputs": [],
   "source": [
    "size_list = [\n",
    "    [2,4,1],[2,8,1],[2,16,1],[2,32,1],\n",
    "    [2,4,4,1],[2,8,8,1],[2,16,16,1],[2,32,32,1],\n",
    "    [2,4,4,4,1],[2,8,8,8,1],[2,16,16,16,1],[2,32,32,32,1],\n",
    "    [2,4,4,4,4,1],[2,8,8,8,8,1],[2,16,16,16,16,1],[2,32,32,32,32,1],\n",
    "]    \n",
    "lr_list = [0.3,0.2,0.1,0.08,0.05,0.03,0.01,0.008,0.005,0.001]"
   ]
  },
  {
   "cell_type": "code",
   "execution_count": null,
   "metadata": {},
   "outputs": [],
   "source": [
    "for i_f, f in enumerate(func_set):\n",
    "    trainset, valset, testset = get_dataset('function',f=f,n_var=2,seed=seed)\n",
    "\n",
    "    train_loader = DataLoader(trainset, batch_size=4096, shuffle=True)\n",
    "    val_loader = DataLoader(valset, batch_size=1024, shuffle=False)\n",
    "    test_loader = DataLoader(testset, batch_size=1024, shuffle=False)\n",
    "\n",
    "    gs = BaseSearcher(device=device,save_dir=f'save/special_func/func_{i_f}')\n",
    "    gs.init_logs()\n",
    "    gs.grid_search(size_list,lr_list,train_loader,val_loader,test_loader,repu_order=3,optim='lbfgs',max_iter=500,epoch_list=[100,100,500],scheduler='lam')"
   ]
  }
 ],
 "metadata": {
  "language_info": {
   "name": "python"
  }
 },
 "nbformat": 4,
 "nbformat_minor": 2
}
