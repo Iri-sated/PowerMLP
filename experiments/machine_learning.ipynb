{
 "cells": [
  {
   "cell_type": "code",
   "execution_count": null,
   "metadata": {},
   "outputs": [],
   "source": [
    "import torch\n",
    "from torch.optim.lr_scheduler import LambdaLR\n",
    "import os\n",
    "\n",
    "from utils import set_seed\n",
    "from data_input import get_dataset_func\n",
    "from grid_search import BaseSearcher"
   ]
  },
  {
   "cell_type": "code",
   "execution_count": null,
   "metadata": {},
   "outputs": [],
   "source": [
    "seed = 42\n",
    "set_seed(seed)\n",
    "device = torch.device('cuda:5')\n",
    "\n",
    "os.environ['CUBLAS_WORKSPACE_CONFIG'] = ':4096:8'\n",
    "\n",
    "train_dataset, validation_dataset, test_dataset = get_dataset_func('income','data/')\n",
    "\n",
    "train_loader = torch.utils.data.DataLoader(dataset=train_dataset, batch_size=128, shuffle=True)\n",
    "val_loader = torch.utils.data.DataLoader(dataset=validation_dataset, batch_size=100, shuffle=True)\n",
    "test_loader = torch.utils.data.DataLoader(dataset=test_dataset, batch_size=100, shuffle=False)"
   ]
  },
  {
   "cell_type": "code",
   "execution_count": null,
   "metadata": {},
   "outputs": [],
   "source": [
    "size_list = [\n",
    "    [108,1,2],[108,2,2],[108,4,2],[108,8,2],[108,16,2],[108,32,2]\n",
    "]\n",
    "lr_list = [0.01,0.008,0.005,0.003,0.001,0.0008,0.0005,0.0003]\n",
    "\n",
    "gs1 = BaseSearcher(device=device,save_dir='save/ml/income/powermlp/',task='clf')\n",
    "gs1.init_logs()\n",
    "gs1.grid_search(size_list,lr_list,train_loader,val_loader,test_loader,repu_order=3,optim='adam',max_iter=500,epoch_list=[100,100,500],scheduler='lam')"
   ]
  }
 ],
 "metadata": {
  "kernelspec": {
   "display_name": "pytorch_env",
   "language": "python",
   "name": "python3"
  },
  "language_info": {
   "name": "python",
   "version": "3.11.5"
  }
 },
 "nbformat": 4,
 "nbformat_minor": 2
}
